{
 "cells": [
  {
   "cell_type": "code",
   "execution_count": 3,
   "metadata": {},
   "outputs": [
    {
     "data": {
      "text/plain": [
       "13"
      ]
     },
     "execution_count": 3,
     "metadata": {},
     "output_type": "execute_result"
    }
   ],
   "source": [
    "def add_numbers(x,y):\n",
    "    return (x+y)\n",
    "    \n",
    "add_numbers(5,8)    "
   ]
  },
  {
   "cell_type": "code",
   "execution_count": 5,
   "metadata": {},
   "outputs": [
    {
     "data": {
      "text/plain": [
       "32"
      ]
     },
     "execution_count": 5,
     "metadata": {},
     "output_type": "execute_result"
    }
   ],
   "source": [
    "def add_numbers(x,y):\n",
    "    return x+y\n",
    "\n",
    "a = add_numbers\n",
    "a(10,22)"
   ]
  },
  {
   "cell_type": "code",
   "execution_count": 6,
   "metadata": {},
   "outputs": [
    {
     "data": {
      "text/plain": [
       "NoneType"
      ]
     },
     "execution_count": 6,
     "metadata": {},
     "output_type": "execute_result"
    }
   ],
   "source": [
    "type(None) #returns type of the specified value"
   ]
  },
  {
   "cell_type": "code",
   "execution_count": 7,
   "metadata": {},
   "outputs": [
    {
     "data": {
      "text/plain": [
       "float"
      ]
     },
     "execution_count": 7,
     "metadata": {},
     "output_type": "execute_result"
    }
   ],
   "source": [
    "type(1.0)"
   ]
  },
  {
   "cell_type": "code",
   "execution_count": 8,
   "metadata": {},
   "outputs": [
    {
     "data": {
      "text/plain": [
       "function"
      ]
     },
     "execution_count": 8,
     "metadata": {},
     "output_type": "execute_result"
    }
   ],
   "source": [
    "type(add_numbers)"
   ]
  },
  {
   "cell_type": "code",
   "execution_count": 9,
   "metadata": {},
   "outputs": [
    {
     "data": {
      "text/plain": [
       "tuple"
      ]
     },
     "execution_count": 9,
     "metadata": {},
     "output_type": "execute_result"
    }
   ],
   "source": [
    "tup=(1,'a',2.5,'f')\n",
    "type(tup)"
   ]
  },
  {
   "cell_type": "code",
   "execution_count": 10,
   "metadata": {},
   "outputs": [
    {
     "data": {
      "text/plain": [
       "list"
      ]
     },
     "execution_count": 10,
     "metadata": {},
     "output_type": "execute_result"
    }
   ],
   "source": [
    "lst=[1,'a',2.5,'f']\n",
    "type(lst)"
   ]
  },
  {
   "cell_type": "code",
   "execution_count": 11,
   "metadata": {},
   "outputs": [],
   "source": [
    "lst.append(3.7) #append an element to list. list is mutable object in python"
   ]
  },
  {
   "cell_type": "code",
   "execution_count": 13,
   "metadata": {},
   "outputs": [
    {
     "name": "stdout",
     "output_type": "stream",
     "text": [
      "1\n",
      "a\n",
      "2.5\n",
      "f\n",
      "3.7\n"
     ]
    }
   ],
   "source": [
    "for i in lst: # loop to iterate items in the list\n",
    "    print(i)"
   ]
  },
  {
   "cell_type": "code",
   "execution_count": 15,
   "metadata": {},
   "outputs": [
    {
     "name": "stdout",
     "output_type": "stream",
     "text": [
      "5\n"
     ]
    }
   ],
   "source": [
    "length= len(lst) #calculate length of the list\n",
    "print(length)"
   ]
  },
  {
   "cell_type": "code",
   "execution_count": 19,
   "metadata": {},
   "outputs": [
    {
     "name": "stdout",
     "output_type": "stream",
     "text": [
      "1\n",
      "a\n",
      "2.5\n",
      "f\n",
      "3.7\n"
     ]
    }
   ],
   "source": [
    "for i in range(len(lst)):\n",
    "    print(lst[i])"
   ]
  },
  {
   "cell_type": "code",
   "execution_count": 20,
   "metadata": {},
   "outputs": [
    {
     "name": "stdout",
     "output_type": "stream",
     "text": [
      "[1, 'a', 2.5, 'f', 3.7, 3, 'f', 3.5, 'z']\n"
     ]
    }
   ],
   "source": [
    "lst2=[3,'f',3.5,'z']\n",
    "print(lst+lst2) # concatenates list1 and list2"
   ]
  },
  {
   "cell_type": "code",
   "execution_count": 21,
   "metadata": {
    "scrolled": true
   },
   "outputs": [
    {
     "name": "stdout",
     "output_type": "stream",
     "text": [
      "[1, 'a', 2.5, 'f', 3.7, 1, 'a', 2.5, 'f', 3.7, 1, 'a', 2.5, 'f', 3.7]\n"
     ]
    }
   ],
   "source": [
    "print(lst*3) # prints the list 3 times"
   ]
  },
  {
   "cell_type": "markdown",
   "metadata": {},
   "source": [
    "<br>\n",
    "Slicing operations"
   ]
  },
  {
   "cell_type": "code",
   "execution_count": 23,
   "metadata": {},
   "outputs": [
    {
     "name": "stdout",
     "output_type": "stream",
     "text": [
      "31\n"
     ]
    }
   ],
   "source": [
    "str= \"Ketaki is learning Data Science\"\n",
    "print(len(str))"
   ]
  },
  {
   "cell_type": "code",
   "execution_count": 24,
   "metadata": {},
   "outputs": [
    {
     "data": {
      "text/plain": [
       "'e'"
      ]
     },
     "execution_count": 24,
     "metadata": {},
     "output_type": "execute_result"
    }
   ],
   "source": [
    "str[-1]"
   ]
  },
  {
   "cell_type": "code",
   "execution_count": 25,
   "metadata": {},
   "outputs": [
    {
     "data": {
      "text/plain": [
       "'ki is learning Data Science'"
      ]
     },
     "execution_count": 25,
     "metadata": {},
     "output_type": "execute_result"
    }
   ],
   "source": [
    "str[4:]"
   ]
  },
  {
   "cell_type": "code",
   "execution_count": 27,
   "metadata": {},
   "outputs": [
    {
     "data": {
      "text/plain": [
       "'Scien'"
      ]
     },
     "execution_count": 27,
     "metadata": {},
     "output_type": "execute_result"
    }
   ],
   "source": [
    "str[-7:-2]"
   ]
  },
  {
   "cell_type": "code",
   "execution_count": 28,
   "metadata": {},
   "outputs": [
    {
     "data": {
      "text/plain": [
       "'Keta'"
      ]
     },
     "execution_count": 28,
     "metadata": {},
     "output_type": "execute_result"
    }
   ],
   "source": [
    "str[:4]"
   ]
  },
  {
   "cell_type": "markdown",
   "metadata": {},
   "source": [
    "<br>\n",
    "Split"
   ]
  },
  {
   "cell_type": "code",
   "execution_count": 31,
   "metadata": {},
   "outputs": [
    {
     "name": "stdout",
     "output_type": "stream",
     "text": [
      "Ketaki\n",
      "Science\n"
     ]
    }
   ],
   "source": [
    "firstname = 'Ketaki is learning Data Science'.split(' ')[0] # [0] selects the first element of the list\n",
    "lastname = 'Ketaki is learning Data Science'.split(' ')[-1] # [-1] selects the last element of the list\n",
    "print(firstname)\n",
    "print(lastname)"
   ]
  },
  {
   "cell_type": "markdown",
   "metadata": {},
   "source": [
    "<br>"
   ]
  },
  {
   "cell_type": "markdown",
   "metadata": {},
   "source": [
    "<br>\n",
    "Learning dictionaries"
   ]
  },
  {
   "cell_type": "code",
   "execution_count": 41,
   "metadata": {},
   "outputs": [
    {
     "name": "stdout",
     "output_type": "stream",
     "text": [
      "{'Name': 'Ketaki', 'email': 'k.ketaki28@gmail.com'}\n",
      "('Name', 'Ketaki')\n",
      "('email', 'k.ketaki28@gmail.com')\n",
      "Ketaki\n",
      "k.ketaki28@gmail.com\n",
      "Name\n",
      "email\n"
     ]
    }
   ],
   "source": [
    "dict = {'Name':'Ketaki','email':'k.ketaki28@gmail.com'}\n",
    "print(dict)\n",
    "for i in dict.items(): #iterates over all of the items\n",
    "    print(i)\n",
    "    \n",
    "for i in dict.values():# iterates over the values\n",
    "    print(i)\n",
    "    \n",
    "for i in dict:     #iterates over the keys\n",
    "    print(i)\n"
   ]
  },
  {
   "cell_type": "code",
   "execution_count": 45,
   "metadata": {},
   "outputs": [
    {
     "name": "stdout",
     "output_type": "stream",
     "text": [
      "Christopher\n",
      "Brooks\n",
      "brooksch@umich.edu\n"
     ]
    }
   ],
   "source": [
    "#unpack sequence into various variables:\n",
    "tup = ('Christopher', 'Brooks', 'brooksch@umich.edu')\n",
    "fname, lname, email = tup\n",
    "for i in tup:\n",
    "    print(i)\n",
    "\n"
   ]
  },
  {
   "cell_type": "markdown",
   "metadata": {},
   "source": [
    "<br>\n",
    "String formatting using in built python function"
   ]
  },
  {
   "cell_type": "code",
   "execution_count": 63,
   "metadata": {},
   "outputs": [
    {
     "name": "stdout",
     "output_type": "stream",
     "text": [
      "5.24\n",
      "10\n",
      "Sumit\n",
      "Sumit bought 10 apples at total price of 52.400000000000006\n"
     ]
    }
   ],
   "source": [
    "sales_format = {'price':3.24,\n",
    "                'qty':4,\n",
    "                'Name':'Ketaki'\n",
    "}\n",
    "sales_dict = {'price':5.24,'qty':10,'Name':'Sumit'}\n",
    "sales_format.update(sales_dict)\n",
    "\n",
    "for i in sales_format:\n",
    "    print(sales_format[i])\n",
    "\n",
    "sales_statement='{} bought {} apples at total price of {}'\n",
    "print(sales_statement.format(sales_format['Name'],sales_format['qty'],sales_format['price']*sales_format['qty']))"
   ]
  },
  {
   "cell_type": "code",
   "execution_count": 78,
   "metadata": {},
   "outputs": [
    {
     "data": {
      "text/plain": [
       "odict_keys(['', 'manufacturer', 'model', 'displ', 'year', 'cyl', 'trans', 'drv', 'cty', 'hwy', 'fl', 'class'])"
      ]
     },
     "execution_count": 78,
     "metadata": {},
     "output_type": "execute_result"
    }
   ],
   "source": [
    "import csv\n",
    "\n",
    "%precision 2\n",
    "\n",
    "with open('mpg.csv') as csvfile:\n",
    "    mpg = list(csv.DictReader(csvfile)) #csv.Dictreader has read in each row of our csv file as a dictionary and then we \n",
    "                                        #conversted it to a list and assigned it to mpg\n",
    "    \n",
    "mpg[:3] # The first three dictionaries in our list.\n",
    "\n",
    "#len(mpg) #gives no of entries=234\n",
    "\n",
    "mpg[0].keys() # keys gives us column names of the csv"
   ]
  },
  {
   "cell_type": "code",
   "execution_count": 92,
   "metadata": {},
   "outputs": [
    {
     "name": "stdout",
     "output_type": "stream",
     "text": [
      "16.858974358974358\n",
      "23.44017094017094\n"
     ]
    }
   ],
   "source": [
    "# now we have to calculate city mpg (cty column) and highway mpg (hwy column) for all cars\n",
    "\n",
    "length= len(mpg)\n",
    "addn_cty= sum(float(d['cty']) for d in mpg)\n",
    "addn_hwy = sum(float(d['hwy']) for d in mpg)\n",
    "    \n",
    "avg_cty=addn_cty/length\n",
    "avg_hwy=addn_hwy/length\n",
    "print(avg_cty)\n",
    "print(avg_hwy)"
   ]
  },
  {
   "cell_type": "markdown",
   "metadata": {},
   "source": [
    "<br><b>\n",
    "Use set to return the unique values for the number of cylinders the cars in our dataset have."
   ]
  },
  {
   "cell_type": "code",
   "execution_count": 93,
   "metadata": {},
   "outputs": [
    {
     "data": {
      "text/plain": [
       "{'4', '5', '6', '8'}"
      ]
     },
     "execution_count": 93,
     "metadata": {},
     "output_type": "execute_result"
    }
   ],
   "source": [
    "cylinders = set(d['cyl'] for d in mpg) #gives unique values under number of cylinders column from data set\n",
    "cylinders"
   ]
  },
  {
   "cell_type": "markdown",
   "metadata": {},
   "source": [
    "<b>grouping the cars by number of cylinder, and finding the average cty mpg for each group."
   ]
  },
  {
   "cell_type": "code",
   "execution_count": 96,
   "metadata": {},
   "outputs": [
    {
     "name": "stdout",
     "output_type": "stream",
     "text": [
      "4\n",
      "5\n",
      "6\n",
      "8\n"
     ]
    },
    {
     "data": {
      "text/plain": [
       "[('4', 21.01), ('5', 20.50), ('6', 16.22), ('8', 12.57)]"
      ]
     },
     "execution_count": 96,
     "metadata": {},
     "output_type": "execute_result"
    }
   ],
   "source": [
    "CtyMpgByCyl=[]\n",
    "for i in cylinders:\n",
    "    print(i)\n",
    "    summpg=0\n",
    "    count=0\n",
    "    for d in mpg:\n",
    "        if d['cyl']==i:\n",
    "            summpg= summpg+float(d['cty'])\n",
    "            count=count+1\n",
    "    CtyMpgByCyl.append((i,summpg/count)) # for appending tuple ('no of cyl','city avg')\n",
    "    \n",
    "CtyMpgByCyl.sort(key=lambda x: x[0]) # sorting the tuple\n",
    "CtyMpgByCyl    \n",
    "    \n",
    "    \n",
    "        "
   ]
  },
  {
   "cell_type": "markdown",
   "metadata": {},
   "source": [
    "<b>how to find the average hwy mpg for each class of vehicle in our dataset."
   ]
  },
  {
   "cell_type": "code",
   "execution_count": 95,
   "metadata": {},
   "outputs": [
    {
     "data": {
      "text/plain": [
       "{'2seater', 'compact', 'midsize', 'minivan', 'pickup', 'subcompact', 'suv'}"
      ]
     },
     "execution_count": 95,
     "metadata": {},
     "output_type": "execute_result"
    }
   ],
   "source": [
    "vehicles_class=set(d['class'] for d in mpg) # lists unique type of vehicles class\n",
    "vehicles_class"
   ]
  },
  {
   "cell_type": "code",
   "execution_count": 99,
   "metadata": {},
   "outputs": [
    {
     "data": {
      "text/plain": [
       "[('2seater', 24.80),\n",
       " ('compact', 28.30),\n",
       " ('midsize', 27.29),\n",
       " ('minivan', 22.36),\n",
       " ('pickup', 16.88),\n",
       " ('subcompact', 28.14),\n",
       " ('suv', 18.13)]"
      ]
     },
     "execution_count": 99,
     "metadata": {},
     "output_type": "execute_result"
    }
   ],
   "source": [
    "vehicles_class=set(d['class'] for d in mpg) # lists unique type of vehicles class\n",
    "HwyMpgByCls=[]\n",
    "for i in vehicles_class:\n",
    "    summpg=0\n",
    "    count=0\n",
    "    for d in mpg:\n",
    "        if d['class']==i:\n",
    "            summpg=summpg+float(d['hwy'])\n",
    "            count=count+1\n",
    "    HwyMpgByCls.append((i,summpg/count))\n",
    "    \n",
    "HwyMpgByCls.sort(key=lambda x:x[0])    \n",
    "HwyMpgByCls"
   ]
  },
  {
   "cell_type": "markdown",
   "metadata": {},
   "source": [
    "# Learning dates and times"
   ]
  },
  {
   "cell_type": "code",
   "execution_count": 103,
   "metadata": {},
   "outputs": [
    {
     "data": {
      "text/plain": [
       "datetime.datetime(2019, 4, 8, 0, 25, 16, 844546)"
      ]
     },
     "execution_count": 103,
     "metadata": {},
     "output_type": "execute_result"
    }
   ],
   "source": [
    "import datetime as dt\n",
    "import time as tm\n",
    "\n",
    "dtnow=dt.datetime.fromtimestamp(tm.time()) #convert timestamp to datetime\n",
    "dtnow"
   ]
  },
  {
   "cell_type": "code",
   "execution_count": 104,
   "metadata": {},
   "outputs": [
    {
     "data": {
      "text/plain": [
       "(2019, 4, 8, 0, 25, 16)"
      ]
     },
     "execution_count": 104,
     "metadata": {},
     "output_type": "execute_result"
    }
   ],
   "source": [
    "dtnow.year, dtnow.month, dtnow.day, dtnow.hour, dtnow.minute, dtnow.second # get year, month, day, etc.from a datetime"
   ]
  },
  {
   "cell_type": "code",
   "execution_count": 111,
   "metadata": {},
   "outputs": [
    {
     "data": {
      "text/plain": [
       "datetime.timedelta(5)"
      ]
     },
     "execution_count": 111,
     "metadata": {},
     "output_type": "execute_result"
    }
   ],
   "source": [
    "#timedelta is a duration expressing the difference between two dates.\n",
    "delta = dt.timedelta(days = 5) # create a timedelta of 100 days\n",
    "delta"
   ]
  },
  {
   "cell_type": "code",
   "execution_count": 110,
   "metadata": {},
   "outputs": [
    {
     "data": {
      "text/plain": [
       "datetime.date(2019, 4, 8)"
      ]
     },
     "execution_count": 110,
     "metadata": {},
     "output_type": "execute_result"
    }
   ],
   "source": [
    "#returns todays date\n",
    "today=dt.date.today()\n",
    "today"
   ]
  },
  {
   "cell_type": "code",
   "execution_count": 112,
   "metadata": {},
   "outputs": [
    {
     "data": {
      "text/plain": [
       "datetime.date(2019, 4, 3)"
      ]
     },
     "execution_count": 112,
     "metadata": {},
     "output_type": "execute_result"
    }
   ],
   "source": [
    "today-delta #date 5 days ago"
   ]
  },
  {
   "cell_type": "code",
   "execution_count": 113,
   "metadata": {},
   "outputs": [
    {
     "data": {
      "text/plain": [
       "False"
      ]
     },
     "execution_count": 113,
     "metadata": {},
     "output_type": "execute_result"
    }
   ],
   "source": [
    "today> today+delta"
   ]
  },
  {
   "cell_type": "markdown",
   "metadata": {},
   "source": [
    "# CLASS"
   ]
  },
  {
   "cell_type": "code",
   "execution_count": 116,
   "metadata": {},
   "outputs": [
    {
     "name": "stdout",
     "output_type": "stream",
     "text": [
      "Ketaki lives in Texas and works for Computer Science department\n"
     ]
    }
   ],
   "source": [
    "class Person():\n",
    "    department='Computer Science'\n",
    "    \n",
    "    def set_name(self,new_name):\n",
    "        self.name=new_name\n",
    "        \n",
    "    def set_loc(self,new_loc):\n",
    "        self.loc=new_loc\n",
    "        \n",
    "person = Person()\n",
    "person.set_name('Ketaki')\n",
    "person.set_loc('Texas')\n",
    "print('{} lives in {} and works for {} department'.format(person.name,person.loc,person.department))"
   ]
  },
  {
   "cell_type": "code",
   "execution_count": 119,
   "metadata": {},
   "outputs": [
    {
     "name": "stdout",
     "output_type": "stream",
     "text": [
      "9.0\n",
      "11.0\n",
      "12.34\n",
      "2.01\n"
     ]
    }
   ],
   "source": [
    "#mapping min function between 2 lists\n",
    "store1 = [10.00, 11.00, 12.34, 2.01]\n",
    "store2 = [9.00, 11.10, 12.34, 2.04]\n",
    "cheapest = map(min, store1, store2)\n",
    "\n",
    "for item in cheapest:\n",
    "    print(item)"
   ]
  },
  {
   "cell_type": "code",
   "execution_count": 124,
   "metadata": {},
   "outputs": [
    {
     "name": "stdout",
     "output_type": "stream",
     "text": [
      "[3 5 5]\n",
      "[3 3 2]\n",
      "[9 5 2]\n",
      "[4 4 5]\n"
     ]
    }
   ],
   "source": [
    "import numpy as np\n",
    "test = np.random.randint(0, 10, (4,3))\n",
    "for row in test:\n",
    "    print(row)"
   ]
  },
  {
   "cell_type": "code",
   "execution_count": 125,
   "metadata": {},
   "outputs": [
    {
     "data": {
      "text/plain": [
       "array([1, 2, 3])"
      ]
     },
     "execution_count": 125,
     "metadata": {},
     "output_type": "execute_result"
    }
   ],
   "source": [
    "mylist = [1, 2, 3]\n",
    "x = np.array(mylist)\n",
    "x"
   ]
  },
  {
   "cell_type": "code",
   "execution_count": 128,
   "metadata": {},
   "outputs": [
    {
     "data": {
      "text/plain": [
       "array([[[7, 8, 9],\n",
       "        [1, 2, 3]],\n",
       "\n",
       "       [[0, 1, 2],\n",
       "        [4, 5, 6]],\n",
       "\n",
       "       [[7, 4, 5],\n",
       "        [1, 4, 9]]])"
      ]
     },
     "execution_count": 128,
     "metadata": {},
     "output_type": "execute_result"
    }
   ],
   "source": [
    "m = np.array([[[7,8,9],[1,2,3]],[[0,1,2],[4,5,6]],[[7,4,5],[1,4,9]]])\n",
    "m"
   ]
  },
  {
   "cell_type": "code",
   "execution_count": null,
   "metadata": {},
   "outputs": [],
   "source": []
  }
 ],
 "metadata": {
  "kernelspec": {
   "display_name": "Python 3",
   "language": "python",
   "name": "python3"
  },
  "language_info": {
   "codemirror_mode": {
    "name": "ipython",
    "version": 3
   },
   "file_extension": ".py",
   "mimetype": "text/x-python",
   "name": "python",
   "nbconvert_exporter": "python",
   "pygments_lexer": "ipython3",
   "version": "3.6.5"
  }
 },
 "nbformat": 4,
 "nbformat_minor": 2
}
